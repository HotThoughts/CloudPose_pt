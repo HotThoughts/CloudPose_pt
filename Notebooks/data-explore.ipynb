{
 "cells": [
  {
   "cell_type": "code",
   "execution_count": null,
   "metadata": {},
   "outputs": [],
   "source": [
    "import argparse\n",
    "import importlib\n",
    "import math\n",
    "import os\n",
    "import random\n",
    "import sys\n",
    "\n",
    "import matplotlib.pyplot as plt\n",
    "import numpy as np\n",
    "import open3d\n",
    "import scipy.io\n",
    "import tensorflow as tf\n",
    "import transforms3d"
   ]
  },
  {
   "cell_type": "code",
   "execution_count": null,
   "metadata": {},
   "outputs": [],
   "source": [
    "train_filenames = [\n",
    "    \"../mydataset/FPS1024/train_files_FPS1024_0_0.tfrecords\",\n",
    "    \"../mydataset/FPS1024/train_files_FPS1024_0_1.tfrecords\",\n",
    "]\n",
    "tr_dataset = tf.data.TFRecordDataset(train_filenames).shuffle(1000000)"
   ]
  },
  {
   "cell_type": "code",
   "execution_count": null,
   "metadata": {},
   "outputs": [],
   "source": [
    "def decode(serialized_example, total_num_point):\n",
    "    features = tf.io.parse_example(\n",
    "        [serialized_example],\n",
    "        features={\n",
    "            \"xyz\": tf.io.FixedLenFeature([total_num_point, 3], tf.float32),\n",
    "            \"rgb\": tf.io.FixedLenFeature([total_num_point, 3], tf.float32),\n",
    "            \"translation\": tf.io.FixedLenFeature([3], tf.float32),\n",
    "            \"quaternion\": tf.io.FixedLenFeature([4], tf.float32),\n",
    "            \"num_valid_points_in_segment\": tf.io.FixedLenFeature([], tf.int64),\n",
    "            \"seq_id\": tf.io.FixedLenFeature([], tf.int64),\n",
    "            \"frame_id\": tf.io.FixedLenFeature([], tf.int64),\n",
    "            \"class_id\": tf.io.FixedLenFeature([], tf.int64),\n",
    "        },\n",
    "    )\n",
    "    return features\n",
    "\n",
    "\n",
    "BATCH_SIZE = 1\n",
    "TOTAL_NUM_POINT = 1024\n",
    "\n",
    "tr_dataset = tr_dataset.map(lambda x: decode(x, TOTAL_NUM_POINT))"
   ]
  },
  {
   "cell_type": "code",
   "execution_count": null,
   "metadata": {},
   "outputs": [],
   "source": [
    "print(tr_dataset)"
   ]
  },
  {
   "cell_type": "code",
   "execution_count": null,
   "metadata": {},
   "outputs": [],
   "source": [
    "element = iter(tr_dataset).get_next()"
   ]
  },
  {
   "cell_type": "code",
   "execution_count": null,
   "metadata": {},
   "outputs": [],
   "source": [
    "seg = tf.concat(values=[element.get(\"xyz\"), element.get(\"rgb\")], axis=0)\n",
    "seg.shape"
   ]
  },
  {
   "cell_type": "code",
   "execution_count": null,
   "metadata": {},
   "outputs": [],
   "source": [
    "pos = tf.concat(values=[element.get(\"translation\"), element.get(\"quaternion\")], axis=1)\n",
    "pos.shape"
   ]
  },
  {
   "cell_type": "code",
   "execution_count": null,
   "metadata": {},
   "outputs": [],
   "source": []
  }
 ],
 "metadata": {
  "interpreter": {
   "hash": "11ce84dedf446f724b76efbe66d32f43310e8f8988063d31a9de8e1515c18786"
  },
  "kernelspec": {
   "display_name": "Python 3.8.6 64-bit ('3.8.6': pyenv)",
   "language": "python",
   "name": "python3"
  },
  "language_info": {
   "codemirror_mode": {
    "name": "ipython",
    "version": 3
   },
   "file_extension": ".py",
   "mimetype": "text/x-python",
   "name": "python",
   "nbconvert_exporter": "python",
   "pygments_lexer": "ipython3",
   "version": "3.8.6"
  },
  "orig_nbformat": 4
 },
 "nbformat": 4,
 "nbformat_minor": 2
}

{
 "cells": [
  {
   "cell_type": "code",
   "execution_count": null,
   "metadata": {},
   "outputs": [],
   "source": [
<<<<<<< HEAD
    "import argparse\n",
    "import importlib\n",
    "import math\n",
    "import os\n",
    "import random\n",
    "import sys\n",
    "\n",
    "import matplotlib.pyplot as plt\n",
    "import numpy as np\n",
    "import open3d\n",
    "import scipy.io\n",
    "import tensorflow as tf\n",
    "import transforms3d"
=======
    "import os\n",
    "\n",
    "import numpy as np\n",
    "import tensorflow as tf\n",
    "import tensorflow_graphics.geometry.transformation as tfgt\n",
    "import tfrecord\n",
    "\n",
    "os.environ[\"TF_CPP_MIN_LOG_LEVEL\"] = \"2\""
>>>>>>> main
   ]
  },
  {
   "cell_type": "code",
   "execution_count": null,
   "metadata": {},
   "outputs": [],
   "source": [
    "train_filenames = [\n",
    "    \"../mydataset/FPS1024/train_files_FPS1024_0_0.tfrecords\",\n",
    "    \"../mydataset/FPS1024/train_files_FPS1024_0_1.tfrecords\",\n",
    "]\n",
    "tr_dataset = tf.data.TFRecordDataset(train_filenames).shuffle(1000000)"
   ]
  },
  {
   "cell_type": "code",
   "execution_count": null,
   "metadata": {},
   "outputs": [],
   "source": [
    "def decode(serialized_example, total_num_point):\n",
    "    features = tf.io.parse_example(\n",
    "        [serialized_example],\n",
    "        features={\n",
    "            \"xyz\": tf.io.FixedLenFeature([total_num_point, 3], tf.float32),\n",
    "            \"rgb\": tf.io.FixedLenFeature([total_num_point, 3], tf.float32),\n",
    "            \"translation\": tf.io.FixedLenFeature([3], tf.float32),\n",
    "            \"quaternion\": tf.io.FixedLenFeature([4], tf.float32),\n",
    "            \"num_valid_points_in_segment\": tf.io.FixedLenFeature([], tf.int64),\n",
    "            \"seq_id\": tf.io.FixedLenFeature([], tf.int64),\n",
    "            \"frame_id\": tf.io.FixedLenFeature([], tf.int64),\n",
    "            \"class_id\": tf.io.FixedLenFeature([], tf.int64),\n",
    "        },\n",
    "    )\n",
    "    return features\n",
    "\n",
    "\n",
    "BATCH_SIZE = 1\n",
    "TOTAL_NUM_POINT = 1024\n",
    "\n",
    "tr_dataset = tr_dataset.map(lambda x: decode(x, TOTAL_NUM_POINT))"
   ]
  },
  {
   "cell_type": "code",
   "execution_count": null,
   "metadata": {},
   "outputs": [],
   "source": [
    "print(tr_dataset)"
   ]
  },
  {
   "cell_type": "code",
   "execution_count": null,
   "metadata": {},
   "outputs": [],
   "source": [
    "element = iter(tr_dataset).get_next()"
   ]
  },
  {
   "cell_type": "code",
   "execution_count": null,
   "metadata": {},
   "outputs": [],
   "source": [
<<<<<<< HEAD
    "seg = tf.concat(values=[element.get(\"xyz\"), element.get(\"rgb\")], axis=0)\n",
=======
    "# seg = tf.concat(values=[element.get(\"xyz\"), element.get(\"rgb\")], axis=0)\n",
    "seg = tf.squeeze(element.get(\"xyz\"))\n",
>>>>>>> main
    "seg.shape"
   ]
  },
  {
<<<<<<< HEAD
=======
   "cell_type": "markdown",
   "metadata": {},
   "source": []
  },
  {
   "cell_type": "code",
   "execution_count": null,
   "metadata": {},
   "outputs": [],
   "source": [
    "rotation_matrix = tfgt.rotation_matrix_3d.from_quaternion(\n",
    "    element.get(\"quaternion\"),\n",
    ")"
   ]
  },
  {
>>>>>>> main
   "cell_type": "code",
   "execution_count": null,
   "metadata": {},
   "outputs": [],
   "source": [
<<<<<<< HEAD
    "pos = tf.concat(values=[element.get(\"translation\"), element.get(\"quaternion\")], axis=1)\n",
    "pos.shape"
=======
    "# Flatten tensor to 1D array\n",
    "pos = tf.concat(\n",
    "    [\n",
    "        tf.reshape(rotation_matrix, -1),\n",
    "        tf.reshape(element.get(\"translation\"), -1),\n",
    "        tf.constant([0, 0, 0, 1], dtype=tf.float32),\n",
    "        tf.reshape(tf.cast(element.get(\"class_id\"), tf.float32), -1),\n",
    "    ],\n",
    "    axis=0,\n",
    ")"
>>>>>>> main
   ]
  },
  {
   "cell_type": "code",
   "execution_count": null,
   "metadata": {},
   "outputs": [],
<<<<<<< HEAD
   "source": []
=======
   "source": [
    "np.save(\"../mydataset/my_train/0000_pos.npy\", pos.numpy())"
   ]
  },
  {
   "cell_type": "code",
   "execution_count": null,
   "metadata": {},
   "outputs": [],
   "source": [
    "np.save(\"../mydataset/my_train/0000_seg.npy\", seg.numpy())"
   ]
  },
  {
   "cell_type": "markdown",
   "metadata": {},
   "source": [
    "## Read TFRecord in PyTorch"
   ]
  },
  {
   "cell_type": "code",
   "execution_count": null,
   "metadata": {},
   "outputs": [],
   "source": [
    "import torch\n",
    "from tfrecord.torch.dataset import TFRecordDataset\n",
    "\n",
    "file = \"../mydataset/FPS1024/train_files_FPS1024_0_0.tfrecords\"\n",
    "index_path = None\n",
    "description = {\n",
    "    \"xyz\": \"float\",\n",
    "    \"rgb\": \"float\",\n",
    "    \"translation\": \"float\",\n",
    "    \"quaternion\": \"float\",\n",
    "    \"num_valid_points_in_segment\": \"int\",\n",
    "    \"seq_id\": \"int\",\n",
    "    \"frame_id\": \"int\",\n",
    "    \"class_id\": \"int\",\n",
    "}\n",
    "\n",
    "dataset = TFRecordDataset(file, index_path, description)\n",
    "loader = torch.utils.data.DataLoader(dataset, batch_size=32)\n",
    "\n",
    "data = next(iter(loader))"
   ]
>>>>>>> main
  }
 ],
 "metadata": {
  "interpreter": {
   "hash": "11ce84dedf446f724b76efbe66d32f43310e8f8988063d31a9de8e1515c18786"
  },
  "kernelspec": {
   "display_name": "Python 3.8.6 64-bit ('3.8.6': pyenv)",
   "language": "python",
   "name": "python3"
  },
  "language_info": {
   "codemirror_mode": {
    "name": "ipython",
    "version": 3
   },
   "file_extension": ".py",
   "mimetype": "text/x-python",
   "name": "python",
   "nbconvert_exporter": "python",
   "pygments_lexer": "ipython3",
   "version": "3.8.6"
  },
  "orig_nbformat": 4
 },
 "nbformat": 4,
 "nbformat_minor": 2
}
